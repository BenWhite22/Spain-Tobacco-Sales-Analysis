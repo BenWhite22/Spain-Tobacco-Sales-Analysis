{
 "cells": [
  {
   "cell_type": "code",
   "execution_count": 6,
   "id": "85acef47",
   "metadata": {},
   "outputs": [],
   "source": [
    "# import library\n",
    "from bs4 import BeautifulSoup\n",
    "import requests\n",
    "import pandas as pd\n",
    "import re"
   ]
  },
  {
   "cell_type": "code",
   "execution_count": 47,
   "id": "6d33f9f1",
   "metadata": {},
   "outputs": [],
   "source": [
    "# Request to website and download HTML contents\n",
    "url='https://www.elpreciodeltabaco.com/'\n",
    "req=requests.get(url)\n",
    "content = BeautifulSoup(req.content, 'html.parser')"
   ]
  },
  {
   "cell_type": "code",
   "execution_count": 52,
   "id": "0216f99a",
   "metadata": {
    "scrolled": true
   },
   "outputs": [
    {
     "data": {
      "text/html": [
       "<div>\n",
       "<style scoped>\n",
       "    .dataframe tbody tr th:only-of-type {\n",
       "        vertical-align: middle;\n",
       "    }\n",
       "\n",
       "    .dataframe tbody tr th {\n",
       "        vertical-align: top;\n",
       "    }\n",
       "\n",
       "    .dataframe thead th {\n",
       "        text-align: right;\n",
       "    }\n",
       "</style>\n",
       "<table border=\"1\" class=\"dataframe\">\n",
       "  <thead>\n",
       "    <tr style=\"text-align: right;\">\n",
       "      <th></th>\n",
       "      <th>Name</th>\n",
       "      <th>HREF</th>\n",
       "    </tr>\n",
       "  </thead>\n",
       "  <tbody>\n",
       "    <tr>\n",
       "      <th>0</th>\n",
       "      <td>1,69 Black Edition</td>\n",
       "      <td>/marca/827/1,69_Black_Edition</td>\n",
       "    </tr>\n",
       "    <tr>\n",
       "      <th>1</th>\n",
       "      <td>1,69 Blue Edition</td>\n",
       "      <td>/marca/828/1,69_Blue_Edition</td>\n",
       "    </tr>\n",
       "    <tr>\n",
       "      <th>2</th>\n",
       "      <td>1,69 Doble Black</td>\n",
       "      <td>/marca/829/1,69_Doble_Black</td>\n",
       "    </tr>\n",
       "    <tr>\n",
       "      <th>3</th>\n",
       "      <td>1,69 Green Edition</td>\n",
       "      <td>/marca/830/1,69_Green_Edition</td>\n",
       "    </tr>\n",
       "    <tr>\n",
       "      <th>4</th>\n",
       "      <td>1,69 Red Edition</td>\n",
       "      <td>/marca/831/1,69_Red_Edition</td>\n",
       "    </tr>\n",
       "    <tr>\n",
       "      <th>...</th>\n",
       "      <td>...</td>\n",
       "      <td>...</td>\n",
       "    </tr>\n",
       "    <tr>\n",
       "      <th>659</th>\n",
       "      <td>York International Blue</td>\n",
       "      <td>/marca/523/York_International_Blue</td>\n",
       "    </tr>\n",
       "    <tr>\n",
       "      <th>660</th>\n",
       "      <td>York International Red</td>\n",
       "      <td>/marca/524/York_International_Red</td>\n",
       "    </tr>\n",
       "    <tr>\n",
       "      <th>661</th>\n",
       "      <td>Yuma Organic Cream</td>\n",
       "      <td>/marca/447/Yuma_Organic_Cream</td>\n",
       "    </tr>\n",
       "    <tr>\n",
       "      <th>662</th>\n",
       "      <td>Yuma Organic de Luxe</td>\n",
       "      <td>/marca/488/Yuma_Organic_de_Luxe</td>\n",
       "    </tr>\n",
       "    <tr>\n",
       "      <th>663</th>\n",
       "      <td>Yuma Organic Red</td>\n",
       "      <td>/marca/448/Yuma_Organic_Red</td>\n",
       "    </tr>\n",
       "  </tbody>\n",
       "</table>\n",
       "<p>664 rows × 2 columns</p>\n",
       "</div>"
      ],
      "text/plain": [
       "                        Name                                HREF\n",
       "0         1,69 Black Edition       /marca/827/1,69_Black_Edition\n",
       "1          1,69 Blue Edition        /marca/828/1,69_Blue_Edition\n",
       "2           1,69 Doble Black         /marca/829/1,69_Doble_Black\n",
       "3         1,69 Green Edition       /marca/830/1,69_Green_Edition\n",
       "4           1,69 Red Edition         /marca/831/1,69_Red_Edition\n",
       "..                       ...                                 ...\n",
       "659  York International Blue  /marca/523/York_International_Blue\n",
       "660   York International Red   /marca/524/York_International_Red\n",
       "661       Yuma Organic Cream       /marca/447/Yuma_Organic_Cream\n",
       "662     Yuma Organic de Luxe     /marca/488/Yuma_Organic_de_Luxe\n",
       "663         Yuma Organic Red         /marca/448/Yuma_Organic_Red\n",
       "\n",
       "[664 rows x 2 columns]"
      ]
     },
     "execution_count": 52,
     "metadata": {},
     "output_type": "execute_result"
    }
   ],
   "source": [
    "categories = content.find_all('ul', {\"id\" : re.compile('letra.*')})\n",
    "\n",
    "ans=[]\n",
    "for category in categories:\n",
    "    ans.extend(category.find_all('li', class_=None))\n",
    "\n",
    "ans1 = ans[:-4]\n",
    "name = []\n",
    "href=[]\n",
    "for item in ans1:\n",
    "    name.append(item.find('div', class_=\"Nombre\").text)\n",
    "    href.append(item.find('a', class_=None).get(\"href\"))\n",
    "\n",
    "df = pd.DataFrame({'Name':name, 'HREF':href})\n",
    "df"
   ]
  },
  {
   "cell_type": "code",
   "execution_count": 70,
   "id": "97abf8ad",
   "metadata": {},
   "outputs": [],
   "source": [
    "#Create an empty dataframe with dates between 01/01/2013 and 01/01/2023 (the price data for all brands lie somewhere in this range)\n",
    "#This dataframe will be used to store prices of all brands\n",
    "date_range = pd.date_range('01/01/2013','01/01/2023', freq='d')\n",
    "all_price_data = pd.DataFrame({'Date':date_range})"
   ]
  },
  {
   "cell_type": "code",
   "execution_count": 69,
   "id": "47829353",
   "metadata": {},
   "outputs": [
    {
     "name": "stdout",
     "output_type": "stream",
     "text": [
      "           Date 1,69 Black Edition\n",
      "0    2013-01-01                NaN\n",
      "1    2013-01-02                NaN\n",
      "2    2013-01-03                NaN\n",
      "3    2013-01-04                NaN\n",
      "4    2013-01-05                NaN\n",
      "...         ...                ...\n",
      "3648 2022-12-28                NaN\n",
      "3649 2022-12-29                NaN\n",
      "3650 2022-12-30                NaN\n",
      "3651 2022-12-31                NaN\n",
      "3652 2023-01-01                NaN\n",
      "\n",
      "[3653 rows x 2 columns]\n"
     ]
    }
   ],
   "source": [
    "#This will iterate through all urls we found on the website homepage\n",
    "for i in df['HREF']:\n",
    "    name = df[df['HREF']==i]['Name'].item()#Get the name of the tobacco brand\n",
    "    \n",
    "    url = 'https://www.elpreciodeltabaco.com'+i\n",
    "    req=requests.get(url)\n",
    "    content = BeautifulSoup(req.content, 'html.parser')\n",
    "    \n",
    "    table = content.find_all('div', class_='DatosTabaco')#This finds the table on each web page containing prices and dates\n",
    "\n",
    "    date = [] #Store dates and prices in these lists\n",
    "    price = []\n",
    "    #Now iterate through each row of the table and find the div objects containing date and price\n",
    "    for item in table[1:]:\n",
    "        date.append(item.find('div', class_=\"Fecha\").text)\n",
    "        price.append(item.find('div', class_=\"Precio\").text[:-1])#[-1] removes '€' sign\n",
    "    \n",
    "    #Make a df with a datetime column and a price column with the title of the tobacco brand\n",
    "    brand_data = pd.DataFrame({name:price, 'Date':date})\n",
    "    brand_data['Date'] = pd.to_datetime(brand_data['Date'], dayfirst=True)\n",
    "    \n",
    "    #Add column to all_price_data dataframe for prices of current brand\n",
    "    all_price_data = pd.merge(all_price_data, brand_data, on='Date', how='left')"
   ]
  },
  {
   "cell_type": "code",
   "execution_count": 37,
   "id": "62da86ac",
   "metadata": {},
   "outputs": [],
   "source": [
    "name = 'Benson & Hedges American Red 100'\n",
    "df1 = pd.DataFrame({name:price1, 'Date':date1})\n",
    "df1['Date'] = pd.to_datetime(df1['Date'], dayfirst=True)"
   ]
  },
  {
   "cell_type": "code",
   "execution_count": 31,
   "id": "cd1f55be",
   "metadata": {
    "scrolled": true
   },
   "outputs": [],
   "source": [
    "date_range = pd.date_range('01/01/2013','01/01/2023', freq='d')\n",
    "df2 = pd.DataFrame({'Date':date_range})"
   ]
  },
  {
   "cell_type": "code",
   "execution_count": 43,
   "id": "99cdf855",
   "metadata": {},
   "outputs": [],
   "source": [
    "bob = pd.merge(df2, df1, on='Date', how='left')"
   ]
  },
  {
   "cell_type": "code",
   "execution_count": 44,
   "id": "43a908ac",
   "metadata": {},
   "outputs": [
    {
     "data": {
      "text/html": [
       "<div>\n",
       "<style scoped>\n",
       "    .dataframe tbody tr th:only-of-type {\n",
       "        vertical-align: middle;\n",
       "    }\n",
       "\n",
       "    .dataframe tbody tr th {\n",
       "        vertical-align: top;\n",
       "    }\n",
       "\n",
       "    .dataframe thead th {\n",
       "        text-align: right;\n",
       "    }\n",
       "</style>\n",
       "<table border=\"1\" class=\"dataframe\">\n",
       "  <thead>\n",
       "    <tr style=\"text-align: right;\">\n",
       "      <th></th>\n",
       "      <th>Date</th>\n",
       "      <th>Benson &amp; Hedges American Red 100</th>\n",
       "    </tr>\n",
       "  </thead>\n",
       "  <tbody>\n",
       "    <tr>\n",
       "      <th>0</th>\n",
       "      <td>2013-01-01</td>\n",
       "      <td>NaN</td>\n",
       "    </tr>\n",
       "    <tr>\n",
       "      <th>1</th>\n",
       "      <td>2013-01-02</td>\n",
       "      <td>NaN</td>\n",
       "    </tr>\n",
       "    <tr>\n",
       "      <th>2</th>\n",
       "      <td>2013-01-03</td>\n",
       "      <td>NaN</td>\n",
       "    </tr>\n",
       "    <tr>\n",
       "      <th>3</th>\n",
       "      <td>2013-01-04</td>\n",
       "      <td>NaN</td>\n",
       "    </tr>\n",
       "    <tr>\n",
       "      <th>4</th>\n",
       "      <td>2013-01-05</td>\n",
       "      <td>NaN</td>\n",
       "    </tr>\n",
       "    <tr>\n",
       "      <th>...</th>\n",
       "      <td>...</td>\n",
       "      <td>...</td>\n",
       "    </tr>\n",
       "    <tr>\n",
       "      <th>3648</th>\n",
       "      <td>2022-12-28</td>\n",
       "      <td>NaN</td>\n",
       "    </tr>\n",
       "    <tr>\n",
       "      <th>3649</th>\n",
       "      <td>2022-12-29</td>\n",
       "      <td>NaN</td>\n",
       "    </tr>\n",
       "    <tr>\n",
       "      <th>3650</th>\n",
       "      <td>2022-12-30</td>\n",
       "      <td>NaN</td>\n",
       "    </tr>\n",
       "    <tr>\n",
       "      <th>3651</th>\n",
       "      <td>2022-12-31</td>\n",
       "      <td>NaN</td>\n",
       "    </tr>\n",
       "    <tr>\n",
       "      <th>3652</th>\n",
       "      <td>2023-01-01</td>\n",
       "      <td>NaN</td>\n",
       "    </tr>\n",
       "  </tbody>\n",
       "</table>\n",
       "<p>3653 rows × 2 columns</p>\n",
       "</div>"
      ],
      "text/plain": [
       "           Date Benson & Hedges American Red 100\n",
       "0    2013-01-01                              NaN\n",
       "1    2013-01-02                              NaN\n",
       "2    2013-01-03                              NaN\n",
       "3    2013-01-04                              NaN\n",
       "4    2013-01-05                              NaN\n",
       "...         ...                              ...\n",
       "3648 2022-12-28                              NaN\n",
       "3649 2022-12-29                              NaN\n",
       "3650 2022-12-30                              NaN\n",
       "3651 2022-12-31                              NaN\n",
       "3652 2023-01-01                              NaN\n",
       "\n",
       "[3653 rows x 2 columns]"
      ]
     },
     "execution_count": 44,
     "metadata": {},
     "output_type": "execute_result"
    }
   ],
   "source": [
    "bob"
   ]
  },
  {
   "cell_type": "code",
   "execution_count": null,
   "id": "82c560a0",
   "metadata": {},
   "outputs": [],
   "source": []
  },
  {
   "cell_type": "markdown",
   "id": "8b3cb62e",
   "metadata": {},
   "source": [
    "ul > Li > Div Class DatosTabaco > Div Class Fecha and Div Class Precio "
   ]
  }
 ],
 "metadata": {
  "kernelspec": {
   "display_name": "Python 3 (ipykernel)",
   "language": "python",
   "name": "python3"
  },
  "language_info": {
   "codemirror_mode": {
    "name": "ipython",
    "version": 3
   },
   "file_extension": ".py",
   "mimetype": "text/x-python",
   "name": "python",
   "nbconvert_exporter": "python",
   "pygments_lexer": "ipython3",
   "version": "3.9.13"
  }
 },
 "nbformat": 4,
 "nbformat_minor": 5
}
